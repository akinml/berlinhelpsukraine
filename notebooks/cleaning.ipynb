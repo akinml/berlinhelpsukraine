{
 "cells": [
  {
   "cell_type": "code",
   "execution_count": 49,
   "id": "f0f03fb9",
   "metadata": {},
   "outputs": [],
   "source": [
    "import pandas as pd\n",
    "import matplotlib.pyplot as plt\n",
    "import seaborn as sns\n",
    "import datetime as dt\n",
    "from datetime import timedelta\n",
    "import numpy as np"
   ]
  },
  {
   "cell_type": "code",
   "execution_count": 36,
   "id": "a56a1902",
   "metadata": {},
   "outputs": [],
   "source": [
    "data = pd.read_csv(\"../data/data_ext2_2023-08-19.csv\")\n",
    "data = data.copy()"
   ]
  },
  {
   "cell_type": "code",
   "execution_count": 37,
   "id": "3db788b6",
   "metadata": {},
   "outputs": [
    {
     "data": {
      "text/html": [
       "<div>\n",
       "<style scoped>\n",
       "    .dataframe tbody tr th:only-of-type {\n",
       "        vertical-align: middle;\n",
       "    }\n",
       "\n",
       "    .dataframe tbody tr th {\n",
       "        vertical-align: top;\n",
       "    }\n",
       "\n",
       "    .dataframe thead th {\n",
       "        text-align: right;\n",
       "    }\n",
       "</style>\n",
       "<table border=\"1\" class=\"dataframe\">\n",
       "  <thead>\n",
       "    <tr style=\"text-align: right;\">\n",
       "      <th></th>\n",
       "      <th>group</th>\n",
       "      <th>sender</th>\n",
       "      <th>text</th>\n",
       "      <th>date</th>\n",
       "    </tr>\n",
       "  </thead>\n",
       "  <tbody>\n",
       "    <tr>\n",
       "      <th>444148</th>\n",
       "      <td>berlinhelpsukrainians</td>\n",
       "      <td>1.542109e+09</td>\n",
       "      <td>@Yulia_uon</td>\n",
       "      <td>2023-08-19 09:00:15</td>\n",
       "    </tr>\n",
       "    <tr>\n",
       "      <th>444149</th>\n",
       "      <td>berlinhelpsukrainians</td>\n",
       "      <td>8.202858e+08</td>\n",
       "      <td>Имеет смысл</td>\n",
       "      <td>2023-08-19 09:01:59</td>\n",
       "    </tr>\n",
       "    <tr>\n",
       "      <th>444150</th>\n",
       "      <td>berlinhelpsukrainians</td>\n",
       "      <td>5.117098e+09</td>\n",
       "      <td>#furniture\\n==============================\\nОф...</td>\n",
       "      <td>2023-08-19 09:07:38</td>\n",
       "    </tr>\n",
       "    <tr>\n",
       "      <th>444151</th>\n",
       "      <td>berlinhelpsukrainians</td>\n",
       "      <td>4.652552e+08</td>\n",
       "      <td>Имеет.</td>\n",
       "      <td>2023-08-19 09:07:52</td>\n",
       "    </tr>\n",
       "    <tr>\n",
       "      <th>444152</th>\n",
       "      <td>berlinhelpsukrainians</td>\n",
       "      <td>8.330099e+08</td>\n",
       "      <td>Да! Смысл есть! По глупости, я прислушалась к ...</td>\n",
       "      <td>2023-08-19 09:22:18</td>\n",
       "    </tr>\n",
       "    <tr>\n",
       "      <th>444153</th>\n",
       "      <td>berlinhelpsukrainians</td>\n",
       "      <td>2.686495e+08</td>\n",
       "      <td>Спасибо большое ☺️</td>\n",
       "      <td>2023-08-19 09:23:51</td>\n",
       "    </tr>\n",
       "    <tr>\n",
       "      <th>444154</th>\n",
       "      <td>berlinhelpsukrainians</td>\n",
       "      <td>5.024801e+09</td>\n",
       "      <td>А мне совершенно не помогло, полгода попользов...</td>\n",
       "      <td>2023-08-19 09:25:35</td>\n",
       "    </tr>\n",
       "    <tr>\n",
       "      <th>444155</th>\n",
       "      <td>berlinhelpsukrainians</td>\n",
       "      <td>7.263066e+08</td>\n",
       "      <td>Тогда скажите арендодателю, что вам не нужна э...</td>\n",
       "      <td>2023-08-19 09:28:44</td>\n",
       "    </tr>\n",
       "    <tr>\n",
       "      <th>444156</th>\n",
       "      <td>berlinhelpsukrainians</td>\n",
       "      <td>6.272974e+08</td>\n",
       "      <td>Нет, одно другого не касается. Расходы на отоп...</td>\n",
       "      <td>2023-08-19 09:32:56</td>\n",
       "    </tr>\n",
       "    <tr>\n",
       "      <th>444157</th>\n",
       "      <td>berlinhelpsukrainians</td>\n",
       "      <td>6.272974e+08</td>\n",
       "      <td>Это можно спросить в отеле. У каждого свой набор</td>\n",
       "      <td>2023-08-19 09:34:33</td>\n",
       "    </tr>\n",
       "  </tbody>\n",
       "</table>\n",
       "</div>"
      ],
      "text/plain": [
       "                        group        sender  \\\n",
       "444148  berlinhelpsukrainians  1.542109e+09   \n",
       "444149  berlinhelpsukrainians  8.202858e+08   \n",
       "444150  berlinhelpsukrainians  5.117098e+09   \n",
       "444151  berlinhelpsukrainians  4.652552e+08   \n",
       "444152  berlinhelpsukrainians  8.330099e+08   \n",
       "444153  berlinhelpsukrainians  2.686495e+08   \n",
       "444154  berlinhelpsukrainians  5.024801e+09   \n",
       "444155  berlinhelpsukrainians  7.263066e+08   \n",
       "444156  berlinhelpsukrainians  6.272974e+08   \n",
       "444157  berlinhelpsukrainians  6.272974e+08   \n",
       "\n",
       "                                                     text                 date  \n",
       "444148                                         @Yulia_uon  2023-08-19 09:00:15  \n",
       "444149                                        Имеет смысл  2023-08-19 09:01:59  \n",
       "444150  #furniture\\n==============================\\nОф...  2023-08-19 09:07:38  \n",
       "444151                                             Имеет.  2023-08-19 09:07:52  \n",
       "444152  Да! Смысл есть! По глупости, я прислушалась к ...  2023-08-19 09:22:18  \n",
       "444153                                 Спасибо большое ☺️  2023-08-19 09:23:51  \n",
       "444154  А мне совершенно не помогло, полгода попользов...  2023-08-19 09:25:35  \n",
       "444155  Тогда скажите арендодателю, что вам не нужна э...  2023-08-19 09:28:44  \n",
       "444156  Нет, одно другого не касается. Расходы на отоп...  2023-08-19 09:32:56  \n",
       "444157   Это можно спросить в отеле. У каждого свой набор  2023-08-19 09:34:33  "
      ]
     },
     "execution_count": 37,
     "metadata": {},
     "output_type": "execute_result"
    }
   ],
   "source": [
    "data.tail(10)"
   ]
  },
  {
   "cell_type": "markdown",
   "id": "f3352277",
   "metadata": {},
   "source": [
    "## Cleaning"
   ]
  },
  {
   "cell_type": "markdown",
   "id": "1f4a54b1",
   "metadata": {},
   "source": [
    "### Basic cleaning"
   ]
  },
  {
   "cell_type": "code",
   "execution_count": 51,
   "id": "704357f7",
   "metadata": {},
   "outputs": [
    {
     "data": {
      "text/plain": [
       "434772"
      ]
     },
     "execution_count": 51,
     "metadata": {},
     "output_type": "execute_result"
    }
   ],
   "source": [
    "len(data)\n",
    "#444158"
   ]
  },
  {
   "cell_type": "code",
   "execution_count": 39,
   "id": "351600be",
   "metadata": {},
   "outputs": [
    {
     "name": "stdout",
     "output_type": "stream",
     "text": [
      "<class 'pandas.core.frame.DataFrame'>\n",
      "RangeIndex: 444158 entries, 0 to 444157\n",
      "Data columns (total 4 columns):\n",
      " #   Column  Non-Null Count   Dtype  \n",
      "---  ------  --------------   -----  \n",
      " 0   group   444158 non-null  object \n",
      " 1   sender  441655 non-null  float64\n",
      " 2   text    434772 non-null  object \n",
      " 3   date    444158 non-null  object \n",
      "dtypes: float64(1), object(3)\n",
      "memory usage: 13.6+ MB\n"
     ]
    }
   ],
   "source": [
    "data.info()"
   ]
  },
  {
   "cell_type": "code",
   "execution_count": 40,
   "id": "473d16ce",
   "metadata": {},
   "outputs": [],
   "source": [
    "data = data[data['text'].notna()]"
   ]
  },
  {
   "cell_type": "code",
   "execution_count": 41,
   "id": "865fd019",
   "metadata": {},
   "outputs": [],
   "source": [
    "data['text'] = data['text'].str.strip()"
   ]
  },
  {
   "cell_type": "code",
   "execution_count": 42,
   "id": "5a6c065c",
   "metadata": {},
   "outputs": [],
   "source": [
    "data['text'].replace('', np.nan, inplace=True)"
   ]
  },
  {
   "cell_type": "code",
   "execution_count": 43,
   "id": "40ad58a2",
   "metadata": {},
   "outputs": [],
   "source": [
    "data.dropna(subset=['text'], inplace=True)"
   ]
  },
  {
   "cell_type": "markdown",
   "id": "ad319137",
   "metadata": {},
   "source": [
    "### Merging rows together that belong to the same sender within a given timeframe"
   ]
  },
  {
   "cell_type": "code",
   "execution_count": 45,
   "id": "72bb9d09",
   "metadata": {},
   "outputs": [],
   "source": [
    "data['date'] = pd.to_datetime(data[\"date\"])"
   ]
  },
  {
   "cell_type": "code",
   "execution_count": 60,
   "id": "62dff41a",
   "metadata": {},
   "outputs": [
    {
     "data": {
      "text/html": [
       "<div>\n",
       "<style scoped>\n",
       "    .dataframe tbody tr th:only-of-type {\n",
       "        vertical-align: middle;\n",
       "    }\n",
       "\n",
       "    .dataframe tbody tr th {\n",
       "        vertical-align: top;\n",
       "    }\n",
       "\n",
       "    .dataframe thead th {\n",
       "        text-align: right;\n",
       "    }\n",
       "</style>\n",
       "<table border=\"1\" class=\"dataframe\">\n",
       "  <thead>\n",
       "    <tr style=\"text-align: right;\">\n",
       "      <th></th>\n",
       "      <th>sender</th>\n",
       "      <th>time_diff</th>\n",
       "      <th>text</th>\n",
       "      <th>date</th>\n",
       "    </tr>\n",
       "  </thead>\n",
       "  <tbody>\n",
       "    <tr>\n",
       "      <th>0</th>\n",
       "      <td>-1.001789e+12</td>\n",
       "      <td>0</td>\n",
       "      <td>https://t.me/pomogatorua</td>\n",
       "      <td>2022-05-14 06:39:42</td>\n",
       "    </tr>\n",
       "    <tr>\n",
       "      <th>1</th>\n",
       "      <td>-1.001789e+12</td>\n",
       "      <td>1</td>\n",
       "      <td>https://t.me/dddkkkke</td>\n",
       "      <td>2022-05-15 20:28:00</td>\n",
       "    </tr>\n",
       "    <tr>\n",
       "      <th>2</th>\n",
       "      <td>-1.001782e+12</td>\n",
       "      <td>1</td>\n",
       "      <td>Можно ли получить внж если меня пригласит мой ...</td>\n",
       "      <td>2022-03-23 15:27:24</td>\n",
       "    </tr>\n",
       "    <tr>\n",
       "      <th>3</th>\n",
       "      <td>-1.001782e+12</td>\n",
       "      <td>2</td>\n",
       "      <td>а если я получу внж и потом сразу уезжаю в Укр...</td>\n",
       "      <td>2022-03-23 23:08:05</td>\n",
       "    </tr>\n",
       "    <tr>\n",
       "      <th>4</th>\n",
       "      <td>-1.001782e+12</td>\n",
       "      <td>3</td>\n",
       "      <td>в Берлине щас долгая регистрация? прописка и внж</td>\n",
       "      <td>2022-03-24 20:42:05</td>\n",
       "    </tr>\n",
       "    <tr>\n",
       "      <th>...</th>\n",
       "      <td>...</td>\n",
       "      <td>...</td>\n",
       "      <td>...</td>\n",
       "      <td>...</td>\n",
       "    </tr>\n",
       "    <tr>\n",
       "      <th>184351</th>\n",
       "      <td>6.517925e+09</td>\n",
       "      <td>159207</td>\n",
       "      <td>hello everyone</td>\n",
       "      <td>2023-08-04 08:01:41</td>\n",
       "    </tr>\n",
       "    <tr>\n",
       "      <th>184352</th>\n",
       "      <td>6.638994e+09</td>\n",
       "      <td>159207</td>\n",
       "      <td>Добрый вечер, дамы и господа. Скажите пожалуйс...</td>\n",
       "      <td>2023-08-15 17:54:05</td>\n",
       "    </tr>\n",
       "    <tr>\n",
       "      <th>184353</th>\n",
       "      <td>6.638994e+09</td>\n",
       "      <td>159208</td>\n",
       "      <td>Спасибо за ответ, решил не ждать написал письм...</td>\n",
       "      <td>2023-08-15 20:44:20</td>\n",
       "    </tr>\n",
       "    <tr>\n",
       "      <th>184354</th>\n",
       "      <td>6.638994e+09</td>\n",
       "      <td>159209</td>\n",
       "      <td>Добрый день ребята, у меня вопрос я одно время...</td>\n",
       "      <td>2023-08-18 12:28:33</td>\n",
       "    </tr>\n",
       "    <tr>\n",
       "      <th>184355</th>\n",
       "      <td>6.650489e+09</td>\n",
       "      <td>159209</td>\n",
       "      <td>Благодарю</td>\n",
       "      <td>2023-08-12 10:20:29</td>\n",
       "    </tr>\n",
       "  </tbody>\n",
       "</table>\n",
       "<p>184356 rows × 4 columns</p>\n",
       "</div>"
      ],
      "text/plain": [
       "              sender  time_diff  \\\n",
       "0      -1.001789e+12          0   \n",
       "1      -1.001789e+12          1   \n",
       "2      -1.001782e+12          1   \n",
       "3      -1.001782e+12          2   \n",
       "4      -1.001782e+12          3   \n",
       "...              ...        ...   \n",
       "184351  6.517925e+09     159207   \n",
       "184352  6.638994e+09     159207   \n",
       "184353  6.638994e+09     159208   \n",
       "184354  6.638994e+09     159209   \n",
       "184355  6.650489e+09     159209   \n",
       "\n",
       "                                                     text                date  \n",
       "0                                https://t.me/pomogatorua 2022-05-14 06:39:42  \n",
       "1                                   https://t.me/dddkkkke 2022-05-15 20:28:00  \n",
       "2       Можно ли получить внж если меня пригласит мой ... 2022-03-23 15:27:24  \n",
       "3       а если я получу внж и потом сразу уезжаю в Укр... 2022-03-23 23:08:05  \n",
       "4        в Берлине щас долгая регистрация? прописка и внж 2022-03-24 20:42:05  \n",
       "...                                                   ...                 ...  \n",
       "184351                                     hello everyone 2023-08-04 08:01:41  \n",
       "184352  Добрый вечер, дамы и господа. Скажите пожалуйс... 2023-08-15 17:54:05  \n",
       "184353  Спасибо за ответ, решил не ждать написал письм... 2023-08-15 20:44:20  \n",
       "184354  Добрый день ребята, у меня вопрос я одно время... 2023-08-18 12:28:33  \n",
       "184355                                          Благодарю 2023-08-12 10:20:29  \n",
       "\n",
       "[184356 rows x 4 columns]"
      ]
     },
     "execution_count": 60,
     "metadata": {},
     "output_type": "execute_result"
    }
   ],
   "source": [
    "df = data.sort_values(by=['sender', 'date'])\n",
    "\n",
    "df['time_diff'] = df.groupby('sender')['date'].diff()\n",
    "\n",
    "data_clean = df.groupby(['sender', (df['time_diff'] > timedelta(minutes=45)).cumsum()]).agg({'text': ' '.join, \n",
    "                                                                                         'date': 'first'}).reset_index()\n",
    "data_clean"
   ]
  },
  {
   "cell_type": "code",
   "execution_count": 61,
   "id": "8105df1b",
   "metadata": {},
   "outputs": [
    {
     "data": {
      "text/plain": [
       "184356"
      ]
     },
     "execution_count": 61,
     "metadata": {},
     "output_type": "execute_result"
    }
   ],
   "source": [
    "len(data_clean)\n",
    "# 45 mins > 184356\n",
    "# 30 mins > 196122\n",
    "# 15 mins > 219198\n",
    "# 10 mins > 235163\n",
    "# 5 mins > 271890"
   ]
  },
  {
   "cell_type": "markdown",
   "id": "7e91e9a4",
   "metadata": {},
   "source": [
    "### DateTime index"
   ]
  },
  {
   "cell_type": "code",
   "execution_count": null,
   "id": "d02a0c64",
   "metadata": {},
   "outputs": [],
   "source": [
    "data['date'] = pd.to_datetime(data[\"date\"])\n",
    "data = data.set_index(\"date\")"
   ]
  },
  {
   "cell_type": "code",
   "execution_count": null,
   "id": "f15c7532",
   "metadata": {},
   "outputs": [],
   "source": [
    "##"
   ]
  },
  {
   "cell_type": "code",
   "execution_count": null,
   "id": "06b22810",
   "metadata": {},
   "outputs": [],
   "source": []
  }
 ],
 "metadata": {
  "kernelspec": {
   "display_name": "Python 3 (ipykernel)",
   "language": "python",
   "name": "python3"
  },
  "language_info": {
   "codemirror_mode": {
    "name": "ipython",
    "version": 3
   },
   "file_extension": ".py",
   "mimetype": "text/x-python",
   "name": "python",
   "nbconvert_exporter": "python",
   "pygments_lexer": "ipython3",
   "version": "3.10.6"
  },
  "toc": {
   "base_numbering": 1,
   "nav_menu": {},
   "number_sections": true,
   "sideBar": true,
   "skip_h1_title": false,
   "title_cell": "Table of Contents",
   "title_sidebar": "Contents",
   "toc_cell": false,
   "toc_position": {},
   "toc_section_display": true,
   "toc_window_display": false
  }
 },
 "nbformat": 4,
 "nbformat_minor": 5
}
